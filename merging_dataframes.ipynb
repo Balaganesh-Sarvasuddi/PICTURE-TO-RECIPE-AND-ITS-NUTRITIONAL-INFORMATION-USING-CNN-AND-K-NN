{
 "cells": [
  {
   "cell_type": "code",
   "execution_count": 2,
   "metadata": {},
   "outputs": [],
   "source": [
    "import pandas as pd\n",
    "import numpy as np"
   ]
  },
  {
   "cell_type": "markdown",
   "metadata": {},
   "source": [
    "## Mergeing Alex Encoding"
   ]
  },
  {
   "cell_type": "code",
   "execution_count": 2,
   "metadata": {},
   "outputs": [],
   "source": [
    "df1 = pd.read_csv('data/alex_encoding/encoding_file1.csv')\n",
    "df2 = pd.read_csv('data/alex_encoding/encoding_file2.csv')\n",
    "df3 = pd.read_csv('data/alex_encoding/encoding_file3.csv')\n",
    "df4 = pd.read_csv('data/alex_encoding/encoding_file4.csv')\n",
    "df5 = pd.read_csv('data/alex_encoding/encoding_file5.csv')\n",
    "df6 = pd.read_csv('data/alex_encoding/encoding_file6.csv')\n",
    "df7 = pd.read_csv('data/alex_encoding/encoding_file7.csv')\n",
    "df8 = pd.read_csv('data/alex_encoding/encoding_file8.csv')\n",
    "df9 = pd.read_csv('data/alex_encoding/encoding_file9.csv')\n",
    "df10 = pd.read_csv('data/alex_encoding/encoding_file10.csv')\n",
    "df11 = pd.read_csv('data/alex_encoding/encoding_file11.csv')\n",
    "df12 = pd.read_csv('data/alex_encoding/encoding_file12.csv')"
   ]
  },
  {
   "cell_type": "code",
   "execution_count": 3,
   "metadata": {},
   "outputs": [],
   "source": [
    "df = pd.concat([df1, df2, df3, df4, df5, df6, df7, df8, df9, df10, df11, df12], axis = 0,ignore_index=True)\n",
    "df.to_csv('data/alex_encoding/encoding_file.csv',index = False)"
   ]
  },
  {
   "cell_type": "markdown",
   "metadata": {},
   "source": [
    "## Merging DenseNet Encoding"
   ]
  },
  {
   "cell_type": "code",
   "execution_count": 4,
   "metadata": {},
   "outputs": [],
   "source": [
    "df1 = pd.read_csv('data/densenet_encoding/encoding_file1.csv')\n",
    "df2 = pd.read_csv('data/densenet_encoding/encoding_file2.csv')\n",
    "df3 = pd.read_csv('data/densenet_encoding/encoding_file3.csv')\n",
    "df4 = pd.read_csv('data/densenet_encoding/encoding_file4.csv')\n",
    "df5 = pd.read_csv('data/densenet_encoding/encoding_file5.csv')\n",
    "df6 = pd.read_csv('data/densenet_encoding/encoding_file6.csv')\n",
    "df7 = pd.read_csv('data/densenet_encoding/encoding_file7.csv')\n",
    "df8 = pd.read_csv('data/densenet_encoding/encoding_file8.csv')\n",
    "df9 = pd.read_csv('data/densenet_encoding/encoding_file9.csv')\n",
    "df10 = pd.read_csv('data/densenet_encoding/encoding_file10.csv')\n",
    "df11 = pd.read_csv('data/densenet_encoding/encoding_file11.csv')\n",
    "df12 = pd.read_csv('data/densenet_encoding/encoding_file12.csv')\n",
    "\n",
    "df = pd.concat([df1, df2, df3, df4, df5, df6, df7, df8, df9, df10, df11, df12], axis = 0,ignore_index=True)\n",
    "df.to_csv('data/densenet_encoding/encoding_file.csv',index = False)"
   ]
  },
  {
   "cell_type": "markdown",
   "metadata": {},
   "source": [
    "## Merging ResNet Encoding"
   ]
  },
  {
   "cell_type": "code",
   "execution_count": 5,
   "metadata": {},
   "outputs": [],
   "source": [
    "df1 = pd.read_csv('data/resnet_encoding/encoding_file1.csv')\n",
    "df2 = pd.read_csv('data/resnet_encoding/encoding_file2.csv')\n",
    "df3 = pd.read_csv('data/resnet_encoding/encoding_file3.csv')\n",
    "df4 = pd.read_csv('data/resnet_encoding/encoding_file4.csv')\n",
    "df5 = pd.read_csv('data/resnet_encoding/encoding_file5.csv')\n",
    "df6 = pd.read_csv('data/resnet_encoding/encoding_file6.csv')\n",
    "df7 = pd.read_csv('data/resnet_encoding/encoding_file7.csv')\n",
    "df8 = pd.read_csv('data/resnet_encoding/encoding_file8.csv')\n",
    "df9 = pd.read_csv('data/resnet_encoding/encoding_file9.csv')\n",
    "df10 = pd.read_csv('data/resnet_encoding/encoding_file10.csv')\n",
    "df11 = pd.read_csv('data/resnet_encoding/encoding_file11.csv')\n",
    "df12 = pd.read_csv('data/resnet_encoding/encoding_file12.csv')\n",
    "\n",
    "df = pd.concat([df1, df2, df3, df4, df5, df6, df7, df8, df9, df10, df11, df12], axis = 0,ignore_index=True)\n",
    "df.to_csv('data/resnet_encoding/encoding_file.csv',index = False)"
   ]
  },
  {
   "cell_type": "markdown",
   "metadata": {},
   "source": [
    "## Merging ResNext Encoding"
   ]
  },
  {
   "cell_type": "code",
   "execution_count": 6,
   "metadata": {},
   "outputs": [],
   "source": [
    "df1 = pd.read_csv('data/resnext_encoding/encoding_file1.csv')\n",
    "df2 = pd.read_csv('data/resnext_encoding/encoding_file2.csv')\n",
    "df3 = pd.read_csv('data/resnext_encoding/encoding_file3.csv')\n",
    "df4 = pd.read_csv('data/resnext_encoding/encoding_file4.csv')\n",
    "df5 = pd.read_csv('data/resnext_encoding/encoding_file5.csv')\n",
    "df6 = pd.read_csv('data/resnext_encoding/encoding_file6.csv')\n",
    "df7 = pd.read_csv('data/resnext_encoding/encoding_file7.csv')\n",
    "df8 = pd.read_csv('data/resnext_encoding/encoding_file8.csv')\n",
    "df9 = pd.read_csv('data/resnext_encoding/encoding_file9.csv')\n",
    "df10 = pd.read_csv('data/resnext_encoding/encoding_file10.csv')\n",
    "df11 = pd.read_csv('data/resnext_encoding/encoding_file11.csv')\n",
    "df12 = pd.read_csv('data/resnext_encoding/encoding_file12.csv')\n",
    "\n",
    "df = pd.concat([df1, df2, df3, df4, df5, df6, df7, df8, df9, df10, df11, df12], axis = 0,ignore_index=True)\n",
    "df.to_csv('data/resnext_encoding/encoding_file.csv',index = False)"
   ]
  },
  {
   "cell_type": "markdown",
   "metadata": {},
   "source": [
    "## Merging VGG Encoding"
   ]
  },
  {
   "cell_type": "code",
   "execution_count": 8,
   "metadata": {},
   "outputs": [],
   "source": [
    "df1 = pd.read_csv('data/vgg_encoding/encoding_file1.csv')\n",
    "df2 = pd.read_csv('data/vgg_encoding/encoding_file2.csv')\n",
    "df3 = pd.read_csv('data/vgg_encoding/encoding_file3.csv')\n",
    "df4 = pd.read_csv('data/vgg_encoding/encoding_file4.csv')\n",
    "df5 = pd.read_csv('data/vgg_encoding/encoding_file5.csv')\n",
    "df6 = pd.read_csv('data/vgg_encoding/encoding_file6.csv')\n",
    "df7 = pd.read_csv('data/vgg_encoding/encoding_file7.csv')\n",
    "df8 = pd.read_csv('data/vgg_encoding/encoding_file8.csv')\n",
    "df9 = pd.read_csv('data/vgg_encoding/encoding_file9.csv')\n",
    "df10 = pd.read_csv('data/vgg_encoding/encoding_file10.csv')\n",
    "df11 = pd.read_csv('data/vgg_encoding/encoding_file11.csv')\n",
    "df12 = pd.read_csv('data/vgg_encoding/encoding_file12.csv')\n",
    "\n",
    "df = pd.concat([df1, df2, df3, df4, df5, df6, df7, df8, df9, df10, df11, df12], axis = 0,ignore_index=True)\n",
    "df.to_csv('data/vgg_encoding/encoding_file.csv',index = False)"
   ]
  },
  {
   "cell_type": "markdown",
   "metadata": {},
   "source": [
    "## Merging GoogleNet Encoding"
   ]
  },
  {
   "cell_type": "code",
   "execution_count": 3,
   "metadata": {},
   "outputs": [],
   "source": [
    "df1 = pd.read_csv('data/googlenet_encoding/encoding_file1.csv')\n",
    "df2 = pd.read_csv('data/googlenet_encoding/encoding_file2.csv')\n",
    "df3 = pd.read_csv('data/googlenet_encoding/encoding_file3.csv')\n",
    "df4 = pd.read_csv('data/googlenet_encoding/encoding_file4.csv')\n",
    "df5 = pd.read_csv('data/googlenet_encoding/encoding_file5.csv')\n",
    "df6 = pd.read_csv('data/googlenet_encoding/encoding_file6.csv')\n",
    "df7 = pd.read_csv('data/googlenet_encoding/encoding_file7.csv')\n",
    "df8 = pd.read_csv('data/googlenet_encoding/encoding_file8.csv')\n",
    "df9 = pd.read_csv('data/googlenet_encoding/encoding_file9.csv')\n",
    "df10 = pd.read_csv('data/googlenet_encoding/encoding_file10.csv')\n",
    "df11 = pd.read_csv('data/googlenet_encoding/encoding_file11.csv')\n",
    "df12 = pd.read_csv('data/googlenet_encoding/encoding_file12.csv')\n",
    "\n",
    "df = pd.concat([df1, df2, df3, df4, df5, df6, df7, df8, df9, df10, df11, df12], axis = 0,ignore_index=True)\n",
    "df.to_csv('data/googlenet_encoding/encoding_file.csv',index = False)"
   ]
  },
  {
   "cell_type": "code",
   "execution_count": null,
   "metadata": {},
   "outputs": [],
   "source": []
  },
  {
   "cell_type": "code",
   "execution_count": null,
   "metadata": {},
   "outputs": [],
   "source": []
  },
  {
   "cell_type": "code",
   "execution_count": 3,
   "metadata": {},
   "outputs": [],
   "source": [
    "df1 = pd.read_csv('data/resnext_encoding/encoding_file_11.csv')\n",
    "df2 = pd.read_csv('data/resnext_encoding/encoding_file_12.csv')\n",
    "df3 = pd.read_csv('data/resnext_encoding/encoding_file_13.csv')\n",
    "df4 = pd.read_csv('data/resnext_encoding/encoding_file_14.csv')\n",
    "df5 = pd.read_csv('data/resnext_encoding/encoding_file_15.csv')\n",
    "df6 = pd.read_csv('data/resnext_encoding/encoding_file_16.csv')\n",
    "df7 = pd.read_csv('data/resnext_encoding/encoding_file_17.csv')\n",
    "df8 = pd.read_csv('data/resnext_encoding/encoding_file_18.csv')\n",
    "df9 = pd.read_csv('data/resnext_encoding/encoding_file_19.csv')\n",
    "df10 = pd.read_csv('data/resnext_encoding/encoding_file_110.csv')\n",
    "df11 = pd.read_csv('data/resnext_encoding/encoding_file_111.csv')\n",
    "df12 = pd.read_csv('data/resnext_encoding/encoding_file_112.csv')\n",
    "\n",
    "df = pd.concat([df1, df2, df3, df4, df5, df6, df7, df8, df9, df10, df11, df12], axis = 0,ignore_index=True)\n",
    "df.to_csv('data/resnext_encoding/encoding_file_1.csv',index = False)"
   ]
  },
  {
   "cell_type": "code",
   "execution_count": null,
   "metadata": {},
   "outputs": [],
   "source": []
  }
 ],
 "metadata": {
  "kernelspec": {
   "display_name": "Python 3",
   "language": "python",
   "name": "python3"
  },
  "language_info": {
   "codemirror_mode": {
    "name": "ipython",
    "version": 3
   },
   "file_extension": ".py",
   "mimetype": "text/x-python",
   "name": "python",
   "nbconvert_exporter": "python",
   "pygments_lexer": "ipython3",
   "version": "3.8.5"
  }
 },
 "nbformat": 4,
 "nbformat_minor": 4
}
