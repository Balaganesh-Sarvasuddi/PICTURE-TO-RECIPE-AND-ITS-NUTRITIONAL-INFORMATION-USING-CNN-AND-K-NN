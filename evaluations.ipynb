{
 "cells": [
  {
   "cell_type": "code",
   "execution_count": 1,
   "metadata": {},
   "outputs": [],
   "source": [
    "import pandas as pd"
   ]
  },
  {
   "cell_type": "markdown",
   "metadata": {},
   "source": [
    "## Evaluations on Alex Net"
   ]
  },
  {
   "cell_type": "code",
   "execution_count": 2,
   "metadata": {},
   "outputs": [],
   "source": [
    "dist_df1 = pd.read_csv('data/output/alexnet/distance_knn.csv')"
   ]
  },
  {
   "cell_type": "code",
   "execution_count": 3,
   "metadata": {},
   "outputs": [
    {
     "data": {
      "text/plain": [
       "test_id          569\n",
       "test_image_id    569\n",
       "top1_id          569\n",
       "top1_image_id    569\n",
       "top2_id          569\n",
       "top2_image_id    569\n",
       "top3_id          569\n",
       "top3_image_id    569\n",
       "dtype: int64"
      ]
     },
     "execution_count": 3,
     "metadata": {},
     "output_type": "execute_result"
    }
   ],
   "source": [
    "dist_df1[dist_df1['test_id'] == dist_df1['top1_id']].count()"
   ]
  },
  {
   "cell_type": "code",
   "execution_count": 4,
   "metadata": {},
   "outputs": [
    {
     "data": {
      "text/plain": [
       "test_id          60\n",
       "test_image_id    60\n",
       "top1_id          60\n",
       "top1_image_id    60\n",
       "top2_id          60\n",
       "top2_image_id    60\n",
       "top3_id          60\n",
       "top3_image_id    60\n",
       "dtype: int64"
      ]
     },
     "execution_count": 4,
     "metadata": {},
     "output_type": "execute_result"
    }
   ],
   "source": [
    "dist_df1[dist_df1['test_id'] == dist_df1['top2_id']].count()"
   ]
  },
  {
   "cell_type": "code",
   "execution_count": 5,
   "metadata": {},
   "outputs": [
    {
     "data": {
      "text/plain": [
       "test_id          35\n",
       "test_image_id    35\n",
       "top1_id          35\n",
       "top1_image_id    35\n",
       "top2_id          35\n",
       "top2_image_id    35\n",
       "top3_id          35\n",
       "top3_image_id    35\n",
       "dtype: int64"
      ]
     },
     "execution_count": 5,
     "metadata": {},
     "output_type": "execute_result"
    }
   ],
   "source": [
    "dist_df1[dist_df1['test_id'] == dist_df1['top3_id']].count()"
   ]
  },
  {
   "cell_type": "code",
   "execution_count": 6,
   "metadata": {},
   "outputs": [],
   "source": [
    "similarity_df1 = pd.read_csv('data/output/alexnet/similarity_knn.csv')"
   ]
  },
  {
   "cell_type": "code",
   "execution_count": 7,
   "metadata": {},
   "outputs": [
    {
     "data": {
      "text/plain": [
       "test_id          646\n",
       "test_image_id    646\n",
       "top1_id          646\n",
       "top1_image_id    646\n",
       "top2_id          646\n",
       "top2_image_id    646\n",
       "top3_id          646\n",
       "top3_image_id    646\n",
       "dtype: int64"
      ]
     },
     "execution_count": 7,
     "metadata": {},
     "output_type": "execute_result"
    }
   ],
   "source": [
    "similarity_df1[similarity_df1['test_id'] == similarity_df1['top1_id']].count()"
   ]
  },
  {
   "cell_type": "code",
   "execution_count": 8,
   "metadata": {},
   "outputs": [
    {
     "data": {
      "text/plain": [
       "test_id          57\n",
       "test_image_id    57\n",
       "top1_id          57\n",
       "top1_image_id    57\n",
       "top2_id          57\n",
       "top2_image_id    57\n",
       "top3_id          57\n",
       "top3_image_id    57\n",
       "dtype: int64"
      ]
     },
     "execution_count": 8,
     "metadata": {},
     "output_type": "execute_result"
    }
   ],
   "source": [
    "similarity_df1[similarity_df1['test_id'] == similarity_df1['top2_id']].count()"
   ]
  },
  {
   "cell_type": "code",
   "execution_count": 10,
   "metadata": {},
   "outputs": [
    {
     "data": {
      "text/plain": [
       "test_id          31\n",
       "test_image_id    31\n",
       "top1_id          31\n",
       "top1_image_id    31\n",
       "top2_id          31\n",
       "top2_image_id    31\n",
       "top3_id          31\n",
       "top3_image_id    31\n",
       "dtype: int64"
      ]
     },
     "execution_count": 10,
     "metadata": {},
     "output_type": "execute_result"
    }
   ],
   "source": [
    "similarity_df1[similarity_df1['test_id'] == similarity_df1['top3_id']].count()"
   ]
  },
  {
   "cell_type": "markdown",
   "metadata": {},
   "source": [
    "## Evaluations on DenseNet"
   ]
  },
  {
   "cell_type": "code",
   "execution_count": 11,
   "metadata": {},
   "outputs": [],
   "source": [
    "dist_df2 = pd.read_csv('data/output/densenet/distance_knn.csv')"
   ]
  },
  {
   "cell_type": "code",
   "execution_count": 12,
   "metadata": {},
   "outputs": [
    {
     "data": {
      "text/plain": [
       "test_id          101\n",
       "test_image_id    101\n",
       "top1_id          101\n",
       "top1_image_id    101\n",
       "top2_id          101\n",
       "top2_image_id    101\n",
       "top3_id          101\n",
       "top3_image_id    101\n",
       "dtype: int64"
      ]
     },
     "execution_count": 12,
     "metadata": {},
     "output_type": "execute_result"
    }
   ],
   "source": [
    "dist_df2[dist_df2['test_id'] == dist_df2['top1_id']].count()"
   ]
  },
  {
   "cell_type": "code",
   "execution_count": 13,
   "metadata": {},
   "outputs": [
    {
     "data": {
      "text/plain": [
       "test_id          0\n",
       "test_image_id    0\n",
       "top1_id          0\n",
       "top1_image_id    0\n",
       "top2_id          0\n",
       "top2_image_id    0\n",
       "top3_id          0\n",
       "top3_image_id    0\n",
       "dtype: int64"
      ]
     },
     "execution_count": 13,
     "metadata": {},
     "output_type": "execute_result"
    }
   ],
   "source": [
    "dist_df2[dist_df2['test_id'] == dist_df2['top2_id']].count()"
   ]
  },
  {
   "cell_type": "code",
   "execution_count": 14,
   "metadata": {},
   "outputs": [
    {
     "data": {
      "text/plain": [
       "test_id          1\n",
       "test_image_id    1\n",
       "top1_id          1\n",
       "top1_image_id    1\n",
       "top2_id          1\n",
       "top2_image_id    1\n",
       "top3_id          1\n",
       "top3_image_id    1\n",
       "dtype: int64"
      ]
     },
     "execution_count": 14,
     "metadata": {},
     "output_type": "execute_result"
    }
   ],
   "source": [
    "dist_df2[dist_df2['test_id'] == dist_df2['top3_id']].count()"
   ]
  },
  {
   "cell_type": "code",
   "execution_count": 15,
   "metadata": {},
   "outputs": [],
   "source": [
    "similarity_df2 = pd.read_csv('data/output/densenet/similarity_knn.csv')"
   ]
  },
  {
   "cell_type": "code",
   "execution_count": 16,
   "metadata": {},
   "outputs": [
    {
     "data": {
      "text/plain": [
       "test_id          1\n",
       "test_image_id    1\n",
       "top1_id          1\n",
       "top1_image_id    1\n",
       "top2_id          1\n",
       "top2_image_id    1\n",
       "top3_id          1\n",
       "top3_image_id    1\n",
       "dtype: int64"
      ]
     },
     "execution_count": 16,
     "metadata": {},
     "output_type": "execute_result"
    }
   ],
   "source": [
    "similarity_df2[similarity_df2['test_id'] == similarity_df2['top1_id']].count()"
   ]
  },
  {
   "cell_type": "code",
   "execution_count": 17,
   "metadata": {},
   "outputs": [
    {
     "data": {
      "text/plain": [
       "test_id          0\n",
       "test_image_id    0\n",
       "top1_id          0\n",
       "top1_image_id    0\n",
       "top2_id          0\n",
       "top2_image_id    0\n",
       "top3_id          0\n",
       "top3_image_id    0\n",
       "dtype: int64"
      ]
     },
     "execution_count": 17,
     "metadata": {},
     "output_type": "execute_result"
    }
   ],
   "source": [
    "similarity_df2[similarity_df2['test_id'] == similarity_df2['top2_id']].count()"
   ]
  },
  {
   "cell_type": "code",
   "execution_count": 18,
   "metadata": {},
   "outputs": [
    {
     "data": {
      "text/plain": [
       "test_id          0\n",
       "test_image_id    0\n",
       "top1_id          0\n",
       "top1_image_id    0\n",
       "top2_id          0\n",
       "top2_image_id    0\n",
       "top3_id          0\n",
       "top3_image_id    0\n",
       "dtype: int64"
      ]
     },
     "execution_count": 18,
     "metadata": {},
     "output_type": "execute_result"
    }
   ],
   "source": [
    "similarity_df2[similarity_df2['test_id'] == similarity_df2['top3_id']].count()"
   ]
  },
  {
   "cell_type": "markdown",
   "metadata": {},
   "source": [
    "## Evaluations on GoogleNet"
   ]
  },
  {
   "cell_type": "code",
   "execution_count": 19,
   "metadata": {},
   "outputs": [],
   "source": [
    "dist_df3 = pd.read_csv('data/output/googlenet/distance_knn.csv')"
   ]
  },
  {
   "cell_type": "code",
   "execution_count": 20,
   "metadata": {},
   "outputs": [
    {
     "data": {
      "text/plain": [
       "test_id          1\n",
       "test_image_id    1\n",
       "top1_id          1\n",
       "top1_image_id    1\n",
       "top2_id          1\n",
       "top2_image_id    1\n",
       "top3_id          1\n",
       "top3_image_id    1\n",
       "dtype: int64"
      ]
     },
     "execution_count": 20,
     "metadata": {},
     "output_type": "execute_result"
    }
   ],
   "source": [
    "dist_df3[dist_df3['test_id'] == dist_df3['top1_id']].count()"
   ]
  },
  {
   "cell_type": "code",
   "execution_count": 21,
   "metadata": {},
   "outputs": [
    {
     "data": {
      "text/plain": [
       "test_id          0\n",
       "test_image_id    0\n",
       "top1_id          0\n",
       "top1_image_id    0\n",
       "top2_id          0\n",
       "top2_image_id    0\n",
       "top3_id          0\n",
       "top3_image_id    0\n",
       "dtype: int64"
      ]
     },
     "execution_count": 21,
     "metadata": {},
     "output_type": "execute_result"
    }
   ],
   "source": [
    "dist_df3[dist_df3['test_id'] == dist_df3['top2_id']].count()"
   ]
  },
  {
   "cell_type": "code",
   "execution_count": 22,
   "metadata": {},
   "outputs": [
    {
     "data": {
      "text/plain": [
       "test_id          0\n",
       "test_image_id    0\n",
       "top1_id          0\n",
       "top1_image_id    0\n",
       "top2_id          0\n",
       "top2_image_id    0\n",
       "top3_id          0\n",
       "top3_image_id    0\n",
       "dtype: int64"
      ]
     },
     "execution_count": 22,
     "metadata": {},
     "output_type": "execute_result"
    }
   ],
   "source": [
    "dist_df3[dist_df3['test_id'] == dist_df3['top3_id']].count()"
   ]
  },
  {
   "cell_type": "code",
   "execution_count": 23,
   "metadata": {},
   "outputs": [],
   "source": [
    "similarity_df3 = pd.read_csv('data/output/googlenet/similarity_knn.csv')"
   ]
  },
  {
   "cell_type": "code",
   "execution_count": 24,
   "metadata": {},
   "outputs": [
    {
     "data": {
      "text/plain": [
       "test_id          0\n",
       "test_image_id    0\n",
       "top1_id          0\n",
       "top1_image_id    0\n",
       "top2_id          0\n",
       "top2_image_id    0\n",
       "top3_id          0\n",
       "top3_image_id    0\n",
       "dtype: int64"
      ]
     },
     "execution_count": 24,
     "metadata": {},
     "output_type": "execute_result"
    }
   ],
   "source": [
    "similarity_df3[similarity_df3['test_id'] == similarity_df3['top1_id']].count()"
   ]
  },
  {
   "cell_type": "code",
   "execution_count": 25,
   "metadata": {},
   "outputs": [
    {
     "data": {
      "text/plain": [
       "test_id          1\n",
       "test_image_id    1\n",
       "top1_id          1\n",
       "top1_image_id    1\n",
       "top2_id          1\n",
       "top2_image_id    1\n",
       "top3_id          1\n",
       "top3_image_id    1\n",
       "dtype: int64"
      ]
     },
     "execution_count": 25,
     "metadata": {},
     "output_type": "execute_result"
    }
   ],
   "source": [
    "similarity_df3[similarity_df3['test_id'] == similarity_df3['top2_id']].count()"
   ]
  },
  {
   "cell_type": "code",
   "execution_count": 26,
   "metadata": {},
   "outputs": [
    {
     "data": {
      "text/plain": [
       "test_id          0\n",
       "test_image_id    0\n",
       "top1_id          0\n",
       "top1_image_id    0\n",
       "top2_id          0\n",
       "top2_image_id    0\n",
       "top3_id          0\n",
       "top3_image_id    0\n",
       "dtype: int64"
      ]
     },
     "execution_count": 26,
     "metadata": {},
     "output_type": "execute_result"
    }
   ],
   "source": [
    "similarity_df3[similarity_df3['test_id'] == similarity_df3['top3_id']].count()"
   ]
  },
  {
   "cell_type": "markdown",
   "metadata": {},
   "source": [
    "## Evaluations on resnet"
   ]
  },
  {
   "cell_type": "code",
   "execution_count": 27,
   "metadata": {},
   "outputs": [],
   "source": [
    "dist_df4 = pd.read_csv('data/output/resnet/distance_knn.csv')"
   ]
  },
  {
   "cell_type": "code",
   "execution_count": 28,
   "metadata": {},
   "outputs": [
    {
     "data": {
      "text/plain": [
       "test_id          230\n",
       "test_image_id    230\n",
       "top1_id          230\n",
       "top1_image_id    230\n",
       "top2_id          230\n",
       "top2_image_id    230\n",
       "top3_id          230\n",
       "top3_image_id    230\n",
       "dtype: int64"
      ]
     },
     "execution_count": 28,
     "metadata": {},
     "output_type": "execute_result"
    }
   ],
   "source": [
    "dist_df4[dist_df4['test_id'] == dist_df4['top1_id']].count()"
   ]
  },
  {
   "cell_type": "code",
   "execution_count": 29,
   "metadata": {},
   "outputs": [
    {
     "data": {
      "text/plain": [
       "test_id          19\n",
       "test_image_id    19\n",
       "top1_id          19\n",
       "top1_image_id    19\n",
       "top2_id          19\n",
       "top2_image_id    19\n",
       "top3_id          19\n",
       "top3_image_id    19\n",
       "dtype: int64"
      ]
     },
     "execution_count": 29,
     "metadata": {},
     "output_type": "execute_result"
    }
   ],
   "source": [
    "dist_df4[dist_df4['test_id'] == dist_df4['top2_id']].count()"
   ]
  },
  {
   "cell_type": "code",
   "execution_count": 30,
   "metadata": {},
   "outputs": [
    {
     "data": {
      "text/plain": [
       "test_id          7\n",
       "test_image_id    7\n",
       "top1_id          7\n",
       "top1_image_id    7\n",
       "top2_id          7\n",
       "top2_image_id    7\n",
       "top3_id          7\n",
       "top3_image_id    7\n",
       "dtype: int64"
      ]
     },
     "execution_count": 30,
     "metadata": {},
     "output_type": "execute_result"
    }
   ],
   "source": [
    "dist_df4[dist_df4['test_id'] == dist_df4['top3_id']].count()"
   ]
  },
  {
   "cell_type": "code",
   "execution_count": 31,
   "metadata": {},
   "outputs": [],
   "source": [
    "similarity_df4 = pd.read_csv('data/output/resnet/similarity_knn.csv')"
   ]
  },
  {
   "cell_type": "code",
   "execution_count": 32,
   "metadata": {},
   "outputs": [
    {
     "data": {
      "text/plain": [
       "test_id          239\n",
       "test_image_id    239\n",
       "top1_id          239\n",
       "top1_image_id    239\n",
       "top2_id          239\n",
       "top2_image_id    239\n",
       "top3_id          239\n",
       "top3_image_id    239\n",
       "dtype: int64"
      ]
     },
     "execution_count": 32,
     "metadata": {},
     "output_type": "execute_result"
    }
   ],
   "source": [
    "similarity_df4[similarity_df4['test_id'] == similarity_df4['top1_id']].count()"
   ]
  },
  {
   "cell_type": "code",
   "execution_count": 33,
   "metadata": {},
   "outputs": [
    {
     "data": {
      "text/plain": [
       "test_id          14\n",
       "test_image_id    14\n",
       "top1_id          14\n",
       "top1_image_id    14\n",
       "top2_id          14\n",
       "top2_image_id    14\n",
       "top3_id          14\n",
       "top3_image_id    14\n",
       "dtype: int64"
      ]
     },
     "execution_count": 33,
     "metadata": {},
     "output_type": "execute_result"
    }
   ],
   "source": [
    "similarity_df4[similarity_df4['test_id'] == similarity_df4['top2_id']].count()"
   ]
  },
  {
   "cell_type": "code",
   "execution_count": 34,
   "metadata": {},
   "outputs": [
    {
     "data": {
      "text/plain": [
       "test_id          9\n",
       "test_image_id    9\n",
       "top1_id          9\n",
       "top1_image_id    9\n",
       "top2_id          9\n",
       "top2_image_id    9\n",
       "top3_id          9\n",
       "top3_image_id    9\n",
       "dtype: int64"
      ]
     },
     "execution_count": 34,
     "metadata": {},
     "output_type": "execute_result"
    }
   ],
   "source": [
    "similarity_df4[similarity_df4['test_id'] == similarity_df4['top3_id']].count()"
   ]
  },
  {
   "cell_type": "markdown",
   "metadata": {},
   "source": [
    "## Evaluations on RESNEXT"
   ]
  },
  {
   "cell_type": "code",
   "execution_count": 35,
   "metadata": {},
   "outputs": [],
   "source": [
    "dist_df5 = pd.read_csv('data/output/resnext/distance_knn.csv')"
   ]
  },
  {
   "cell_type": "code",
   "execution_count": 36,
   "metadata": {},
   "outputs": [
    {
     "data": {
      "text/plain": [
       "test_id          262\n",
       "test_image_id    262\n",
       "top1_id          262\n",
       "top1_image_id    262\n",
       "top2_id          262\n",
       "top2_image_id    262\n",
       "top3_id          262\n",
       "top3_image_id    262\n",
       "dtype: int64"
      ]
     },
     "execution_count": 36,
     "metadata": {},
     "output_type": "execute_result"
    }
   ],
   "source": [
    "dist_df5[dist_df5['test_id'] == dist_df5['top1_id']].count()"
   ]
  },
  {
   "cell_type": "code",
   "execution_count": 37,
   "metadata": {},
   "outputs": [
    {
     "data": {
      "text/plain": [
       "test_id          28\n",
       "test_image_id    28\n",
       "top1_id          28\n",
       "top1_image_id    28\n",
       "top2_id          28\n",
       "top2_image_id    28\n",
       "top3_id          28\n",
       "top3_image_id    28\n",
       "dtype: int64"
      ]
     },
     "execution_count": 37,
     "metadata": {},
     "output_type": "execute_result"
    }
   ],
   "source": [
    "dist_df5[dist_df5['test_id'] == dist_df5['top2_id']].count()"
   ]
  },
  {
   "cell_type": "code",
   "execution_count": 38,
   "metadata": {},
   "outputs": [
    {
     "data": {
      "text/plain": [
       "test_id          20\n",
       "test_image_id    20\n",
       "top1_id          20\n",
       "top1_image_id    20\n",
       "top2_id          20\n",
       "top2_image_id    20\n",
       "top3_id          20\n",
       "top3_image_id    20\n",
       "dtype: int64"
      ]
     },
     "execution_count": 38,
     "metadata": {},
     "output_type": "execute_result"
    }
   ],
   "source": [
    "dist_df5[dist_df5['test_id'] == dist_df5['top3_id']].count()"
   ]
  },
  {
   "cell_type": "code",
   "execution_count": 39,
   "metadata": {},
   "outputs": [],
   "source": [
    "similarity_df5 = pd.read_csv('data/output/resnext/similarity_knn.csv')"
   ]
  },
  {
   "cell_type": "code",
   "execution_count": 40,
   "metadata": {},
   "outputs": [
    {
     "data": {
      "text/plain": [
       "test_id          307\n",
       "test_image_id    307\n",
       "top1_id          307\n",
       "top1_image_id    307\n",
       "top2_id          307\n",
       "top2_image_id    307\n",
       "top3_id          307\n",
       "top3_image_id    307\n",
       "dtype: int64"
      ]
     },
     "execution_count": 40,
     "metadata": {},
     "output_type": "execute_result"
    }
   ],
   "source": [
    "similarity_df5[similarity_df5['test_id'] == similarity_df5['top1_id']].count()"
   ]
  },
  {
   "cell_type": "code",
   "execution_count": 41,
   "metadata": {},
   "outputs": [
    {
     "data": {
      "text/plain": [
       "test_id          25\n",
       "test_image_id    25\n",
       "top1_id          25\n",
       "top1_image_id    25\n",
       "top2_id          25\n",
       "top2_image_id    25\n",
       "top3_id          25\n",
       "top3_image_id    25\n",
       "dtype: int64"
      ]
     },
     "execution_count": 41,
     "metadata": {},
     "output_type": "execute_result"
    }
   ],
   "source": [
    "similarity_df5[similarity_df5['test_id'] == similarity_df5['top2_id']].count()"
   ]
  },
  {
   "cell_type": "code",
   "execution_count": 42,
   "metadata": {},
   "outputs": [
    {
     "data": {
      "text/plain": [
       "test_id          14\n",
       "test_image_id    14\n",
       "top1_id          14\n",
       "top1_image_id    14\n",
       "top2_id          14\n",
       "top2_image_id    14\n",
       "top3_id          14\n",
       "top3_image_id    14\n",
       "dtype: int64"
      ]
     },
     "execution_count": 42,
     "metadata": {},
     "output_type": "execute_result"
    }
   ],
   "source": [
    "similarity_df5[similarity_df5['test_id'] == similarity_df5['top3_id']].count()"
   ]
  },
  {
   "cell_type": "markdown",
   "metadata": {},
   "source": [
    "## Evaluations on VGG"
   ]
  },
  {
   "cell_type": "code",
   "execution_count": 43,
   "metadata": {},
   "outputs": [],
   "source": [
    "dist_df6 = pd.read_csv('data/output/vgg/distance_knn.csv')"
   ]
  },
  {
   "cell_type": "code",
   "execution_count": 44,
   "metadata": {},
   "outputs": [
    {
     "data": {
      "text/plain": [
       "test_id          307\n",
       "test_image_id    307\n",
       "top1_id          307\n",
       "top1_image_id    307\n",
       "top2_id          307\n",
       "top2_image_id    307\n",
       "top3_id          307\n",
       "top3_image_id    307\n",
       "dtype: int64"
      ]
     },
     "execution_count": 44,
     "metadata": {},
     "output_type": "execute_result"
    }
   ],
   "source": [
    "dist_df6[dist_df6['test_id'] == dist_df6['top1_id']].count()"
   ]
  },
  {
   "cell_type": "code",
   "execution_count": 45,
   "metadata": {},
   "outputs": [
    {
     "data": {
      "text/plain": [
       "test_id          22\n",
       "test_image_id    22\n",
       "top1_id          22\n",
       "top1_image_id    22\n",
       "top2_id          22\n",
       "top2_image_id    22\n",
       "top3_id          22\n",
       "top3_image_id    22\n",
       "dtype: int64"
      ]
     },
     "execution_count": 45,
     "metadata": {},
     "output_type": "execute_result"
    }
   ],
   "source": [
    "dist_df6[dist_df6['test_id'] == dist_df6['top2_id']].count()"
   ]
  },
  {
   "cell_type": "code",
   "execution_count": 46,
   "metadata": {},
   "outputs": [
    {
     "data": {
      "text/plain": [
       "test_id          14\n",
       "test_image_id    14\n",
       "top1_id          14\n",
       "top1_image_id    14\n",
       "top2_id          14\n",
       "top2_image_id    14\n",
       "top3_id          14\n",
       "top3_image_id    14\n",
       "dtype: int64"
      ]
     },
     "execution_count": 46,
     "metadata": {},
     "output_type": "execute_result"
    }
   ],
   "source": [
    "dist_df6[dist_df6['test_id'] == dist_df6['top3_id']].count()"
   ]
  },
  {
   "cell_type": "code",
   "execution_count": 47,
   "metadata": {},
   "outputs": [],
   "source": [
    "similarity_df6 = pd.read_csv('data/output/vgg/similarity_knn.csv')"
   ]
  },
  {
   "cell_type": "code",
   "execution_count": 48,
   "metadata": {},
   "outputs": [
    {
     "data": {
      "text/plain": [
       "test_id          311\n",
       "test_image_id    311\n",
       "top1_id          311\n",
       "top1_image_id    311\n",
       "top2_id          311\n",
       "top2_image_id    311\n",
       "top3_id          311\n",
       "top3_image_id    311\n",
       "dtype: int64"
      ]
     },
     "execution_count": 48,
     "metadata": {},
     "output_type": "execute_result"
    }
   ],
   "source": [
    "similarity_df6[similarity_df6['test_id'] == similarity_df6['top1_id']].count()"
   ]
  },
  {
   "cell_type": "code",
   "execution_count": 49,
   "metadata": {},
   "outputs": [
    {
     "data": {
      "text/plain": [
       "test_id          10\n",
       "test_image_id    10\n",
       "top1_id          10\n",
       "top1_image_id    10\n",
       "top2_id          10\n",
       "top2_image_id    10\n",
       "top3_id          10\n",
       "top3_image_id    10\n",
       "dtype: int64"
      ]
     },
     "execution_count": 49,
     "metadata": {},
     "output_type": "execute_result"
    }
   ],
   "source": [
    "similarity_df6[similarity_df6['test_id'] == similarity_df6['top2_id']].count()"
   ]
  },
  {
   "cell_type": "code",
   "execution_count": 50,
   "metadata": {},
   "outputs": [
    {
     "data": {
      "text/plain": [
       "test_id          10\n",
       "test_image_id    10\n",
       "top1_id          10\n",
       "top1_image_id    10\n",
       "top2_id          10\n",
       "top2_image_id    10\n",
       "top3_id          10\n",
       "top3_image_id    10\n",
       "dtype: int64"
      ]
     },
     "execution_count": 50,
     "metadata": {},
     "output_type": "execute_result"
    }
   ],
   "source": [
    "similarity_df6[similarity_df6['test_id'] == similarity_df6['top3_id']].count()"
   ]
  },
  {
   "cell_type": "code",
   "execution_count": null,
   "metadata": {},
   "outputs": [],
   "source": []
  },
  {
   "cell_type": "code",
   "execution_count": null,
   "metadata": {},
   "outputs": [],
   "source": []
  }
 ],
 "metadata": {
  "kernelspec": {
   "display_name": "Python 3",
   "language": "python",
   "name": "python3"
  },
  "language_info": {
   "codemirror_mode": {
    "name": "ipython",
    "version": 3
   },
   "file_extension": ".py",
   "mimetype": "text/x-python",
   "name": "python",
   "nbconvert_exporter": "python",
   "pygments_lexer": "ipython3",
   "version": "3.8.5"
  }
 },
 "nbformat": 4,
 "nbformat_minor": 4
}
